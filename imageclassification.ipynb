{
  "nbformat": 4,
  "nbformat_minor": 0,
  "metadata": {
    "colab": {
      "name": "imageclassification.ipynb",
      "provenance": []
    },
    "kernelspec": {
      "name": "python3",
      "display_name": "Python 3"
    },
    "accelerator": "GPU"
  },
  "cells": [
    {
      "cell_type": "markdown",
      "metadata": {
        "id": "OfI1eOEvnr2f",
        "colab_type": "text"
      },
      "source": [
        "**From uper Menu choose:**\n",
        "---\n",
        "Runtime --> Change runtime type:\n",
        "---\n",
        "change Hardare accelerator to (gpu)"
      ]
    },
    {
      "cell_type": "code",
      "metadata": {
        "id": "Ry7NRUf0llQ8",
        "colab_type": "code",
        "outputId": "fb14de41-c296-41d6-9595-7b4351668f1d",
        "colab": {
          "base_uri": "https://localhost:8080/",
          "height": 119
        }
      },
      "source": [
        "%tensorflow_version 1.15\n",
        "import tensorflow as tf\n",
        "from keras import Sequential\n",
        "from keras.datasets import mnist\n",
        "import numpy as np\n",
        "from keras.layers import Dense\n",
        "from keras.utils import to_categorical"
      ],
      "execution_count": 2,
      "outputs": [
        {
          "output_type": "stream",
          "text": [
            "`%tensorflow_version` only switches the major version: 1.x or 2.x.\n",
            "You set: `1.15`. This will be interpreted as: `1.x`.\n",
            "\n",
            "\n",
            "TensorFlow 1.x selected.\n"
          ],
          "name": "stdout"
        },
        {
          "output_type": "stream",
          "text": [
            "Using TensorFlow backend.\n"
          ],
          "name": "stderr"
        }
      ]
    },
    {
      "cell_type": "code",
      "metadata": {
        "id": "XReLyY3jlr-R",
        "colab_type": "code",
        "colab": {
          "base_uri": "https://localhost:8080/",
          "height": 51
        },
        "outputId": "3afaec51-3f05-40a7-a645-58def21f375d"
      },
      "source": [
        "(train_images,train_labels),(test_images, test_labels) = mnist.load_data()"
      ],
      "execution_count": 3,
      "outputs": [
        {
          "output_type": "stream",
          "text": [
            "Downloading data from https://s3.amazonaws.com/img-datasets/mnist.npz\n",
            "11493376/11490434 [==============================] - 1s 0us/step\n"
          ],
          "name": "stdout"
        }
      ]
    },
    {
      "cell_type": "code",
      "metadata": {
        "id": "RrEOE2a_luF1",
        "colab_type": "code",
        "outputId": "006a6aa9-329f-4d75-b915-c228f0444659",
        "colab": {
          "base_uri": "https://localhost:8080/",
          "height": 34
        }
      },
      "source": [
        "print(train_images.shape[1:])"
      ],
      "execution_count": 4,
      "outputs": [
        {
          "output_type": "stream",
          "text": [
            "(28, 28)\n"
          ],
          "name": "stdout"
        }
      ]
    },
    {
      "cell_type": "markdown",
      "metadata": {
        "id": "oi1noKXWl0E4",
        "colab_type": "text"
      },
      "source": [
        "#process the data\n",
        "#1. convert each image of shape 28*28 to 784 dimensional which will be fed to the network as a single feature"
      ]
    },
    {
      "cell_type": "code",
      "metadata": {
        "id": "3KcvF2qFlwhr",
        "colab_type": "code",
        "outputId": "1deb5a4f-54c1-4fc0-ed90-2a809fd3256c",
        "colab": {
          "base_uri": "https://localhost:8080/",
          "height": 34
        }
      },
      "source": [
        "dimData = np.prod(train_images.shape[1:])\n",
        "print(dimData)\n",
        "train_data = train_images.reshape(train_images.shape[0],dimData)\n",
        "test_data = test_images.reshape(test_images.shape[0],dimData)"
      ],
      "execution_count": 5,
      "outputs": [
        {
          "output_type": "stream",
          "text": [
            "784\n"
          ],
          "name": "stdout"
        }
      ]
    },
    {
      "cell_type": "markdown",
      "metadata": {
        "id": "CI3BKhj0l3fd",
        "colab_type": "text"
      },
      "source": [
        "#convert data to float and scale values between 0 and 1"
      ]
    },
    {
      "cell_type": "code",
      "metadata": {
        "id": "G_XcNfVfl1jH",
        "colab_type": "code",
        "colab": {}
      },
      "source": [
        "train_data = train_data.astype('float')\n",
        "test_data = test_data.astype('float')\n",
        "train_data1 = train_data.astype('float')\n",
        "test_data1 = test_data.astype('float')"
      ],
      "execution_count": 0,
      "outputs": []
    },
    {
      "cell_type": "markdown",
      "metadata": {
        "id": "ODdo3u8Ql8c8",
        "colab_type": "text"
      },
      "source": [
        "#scale data"
      ]
    },
    {
      "cell_type": "code",
      "metadata": {
        "id": "nky9C9FMl7BU",
        "colab_type": "code",
        "colab": {}
      },
      "source": [
        "train_data /=255.0\n",
        "test_data /=255.0"
      ],
      "execution_count": 0,
      "outputs": []
    },
    {
      "cell_type": "markdown",
      "metadata": {
        "id": "PVc9dRURl_oo",
        "colab_type": "text"
      },
      "source": [
        "#change the labels frominteger to one-hot encoding. to_categorical is doing the same thing as LabelEncoder()"
      ]
    },
    {
      "cell_type": "code",
      "metadata": {
        "id": "iGTKxNyYl-nE",
        "colab_type": "code",
        "colab": {}
      },
      "source": [
        "train_labels_one_hot = to_categorical(train_labels)\n",
        "test_labels_one_hot = to_categorical(test_labels)"
      ],
      "execution_count": 0,
      "outputs": []
    },
    {
      "cell_type": "markdown",
      "metadata": {
        "id": "1YFoN0z6mEbR",
        "colab_type": "text"
      },
      "source": [
        "#creating network"
      ]
    },
    {
      "cell_type": "code",
      "metadata": {
        "id": "9ui43p57mCgk",
        "colab_type": "code",
        "colab": {
          "base_uri": "https://localhost:8080/",
          "height": 139
        },
        "outputId": "1a5aa7c2-fa05-4de9-a6c6-2bd24c38d7c3"
      },
      "source": [
        "model = Sequential()\n",
        "model.add(Dense(512, activation='relu', input_shape=(dimData,)))\n",
        "model.add(Dense(512, activation='relu'))\n",
        "model.add(Dense(10, activation='softmax'))"
      ],
      "execution_count": 9,
      "outputs": [
        {
          "output_type": "stream",
          "text": [
            "WARNING:tensorflow:From /usr/local/lib/python3.6/dist-packages/keras/backend/tensorflow_backend.py:66: The name tf.get_default_graph is deprecated. Please use tf.compat.v1.get_default_graph instead.\n",
            "\n",
            "WARNING:tensorflow:From /usr/local/lib/python3.6/dist-packages/keras/backend/tensorflow_backend.py:541: The name tf.placeholder is deprecated. Please use tf.compat.v1.placeholder instead.\n",
            "\n",
            "WARNING:tensorflow:From /usr/local/lib/python3.6/dist-packages/keras/backend/tensorflow_backend.py:4432: The name tf.random_uniform is deprecated. Please use tf.random.uniform instead.\n",
            "\n"
          ],
          "name": "stdout"
        }
      ]
    },
    {
      "cell_type": "markdown",
      "metadata": {
        "id": "538_9WbGmp5a",
        "colab_type": "text"
      },
      "source": [
        "# Compile model"
      ]
    },
    {
      "cell_type": "code",
      "metadata": {
        "id": "ck4tEWPMmG0j",
        "colab_type": "code",
        "colab": {
          "base_uri": "https://localhost:8080/",
          "height": 105
        },
        "outputId": "87d2d5a8-569c-4134-80df-f599b2086a2e"
      },
      "source": [
        "model.compile(optimizer='rmsprop', loss='categorical_crossentropy', metrics=['accuracy'])"
      ],
      "execution_count": 10,
      "outputs": [
        {
          "output_type": "stream",
          "text": [
            "WARNING:tensorflow:From /usr/local/lib/python3.6/dist-packages/keras/optimizers.py:793: The name tf.train.Optimizer is deprecated. Please use tf.compat.v1.train.Optimizer instead.\n",
            "\n",
            "WARNING:tensorflow:From /usr/local/lib/python3.6/dist-packages/keras/backend/tensorflow_backend.py:3576: The name tf.log is deprecated. Please use tf.math.log instead.\n",
            "\n"
          ],
          "name": "stdout"
        }
      ]
    },
    {
      "cell_type": "code",
      "metadata": {
        "id": "rsNP_elemr_i",
        "colab_type": "code",
        "outputId": "bc33fe8a-55ad-4957-a73b-5d4247ec776d",
        "colab": {
          "base_uri": "https://localhost:8080/",
          "height": 717
        }
      },
      "source": [
        "history = model.fit(train_data, train_labels_one_hot, batch_size=256, epochs=10, verbose=1,\n",
        "                   validation_data=(test_data, test_labels_one_hot))"
      ],
      "execution_count": 11,
      "outputs": [
        {
          "output_type": "stream",
          "text": [
            "WARNING:tensorflow:From /tensorflow-1.15.2/python3.6/tensorflow_core/python/ops/math_grad.py:1424: where (from tensorflow.python.ops.array_ops) is deprecated and will be removed in a future version.\n",
            "Instructions for updating:\n",
            "Use tf.where in 2.0, which has the same broadcast rule as np.where\n",
            "WARNING:tensorflow:From /usr/local/lib/python3.6/dist-packages/keras/backend/tensorflow_backend.py:1033: The name tf.assign_add is deprecated. Please use tf.compat.v1.assign_add instead.\n",
            "\n",
            "WARNING:tensorflow:From /usr/local/lib/python3.6/dist-packages/keras/backend/tensorflow_backend.py:1020: The name tf.assign is deprecated. Please use tf.compat.v1.assign instead.\n",
            "\n",
            "WARNING:tensorflow:From /usr/local/lib/python3.6/dist-packages/keras/backend/tensorflow_backend.py:3005: The name tf.Session is deprecated. Please use tf.compat.v1.Session instead.\n",
            "\n",
            "Train on 60000 samples, validate on 10000 samples\n",
            "Epoch 1/10\n",
            "WARNING:tensorflow:From /usr/local/lib/python3.6/dist-packages/keras/backend/tensorflow_backend.py:190: The name tf.get_default_session is deprecated. Please use tf.compat.v1.get_default_session instead.\n",
            "\n",
            "WARNING:tensorflow:From /usr/local/lib/python3.6/dist-packages/keras/backend/tensorflow_backend.py:197: The name tf.ConfigProto is deprecated. Please use tf.compat.v1.ConfigProto instead.\n",
            "\n",
            "WARNING:tensorflow:From /usr/local/lib/python3.6/dist-packages/keras/backend/tensorflow_backend.py:207: The name tf.global_variables is deprecated. Please use tf.compat.v1.global_variables instead.\n",
            "\n",
            "WARNING:tensorflow:From /usr/local/lib/python3.6/dist-packages/keras/backend/tensorflow_backend.py:216: The name tf.is_variable_initialized is deprecated. Please use tf.compat.v1.is_variable_initialized instead.\n",
            "\n",
            "WARNING:tensorflow:From /usr/local/lib/python3.6/dist-packages/keras/backend/tensorflow_backend.py:223: The name tf.variables_initializer is deprecated. Please use tf.compat.v1.variables_initializer instead.\n",
            "\n",
            "60000/60000 [==============================] - 10s 161us/step - loss: 0.2689 - acc: 0.9189 - val_loss: 0.1608 - val_acc: 0.9487\n",
            "Epoch 2/10\n",
            "60000/60000 [==============================] - 1s 18us/step - loss: 0.0912 - acc: 0.9715 - val_loss: 0.0860 - val_acc: 0.9720\n",
            "Epoch 3/10\n",
            "60000/60000 [==============================] - 1s 17us/step - loss: 0.0574 - acc: 0.9819 - val_loss: 0.0718 - val_acc: 0.9775\n",
            "Epoch 4/10\n",
            "60000/60000 [==============================] - 1s 19us/step - loss: 0.0400 - acc: 0.9872 - val_loss: 0.0745 - val_acc: 0.9758\n",
            "Epoch 5/10\n",
            "60000/60000 [==============================] - 1s 19us/step - loss: 0.0276 - acc: 0.9911 - val_loss: 0.0937 - val_acc: 0.9741\n",
            "Epoch 6/10\n",
            "60000/60000 [==============================] - 1s 18us/step - loss: 0.0224 - acc: 0.9928 - val_loss: 0.1140 - val_acc: 0.9690\n",
            "Epoch 7/10\n",
            "60000/60000 [==============================] - 1s 18us/step - loss: 0.0171 - acc: 0.9948 - val_loss: 0.1264 - val_acc: 0.9711\n",
            "Epoch 8/10\n",
            "60000/60000 [==============================] - 1s 18us/step - loss: 0.0130 - acc: 0.9958 - val_loss: 0.0864 - val_acc: 0.9811\n",
            "Epoch 9/10\n",
            "60000/60000 [==============================] - 1s 17us/step - loss: 0.0115 - acc: 0.9964 - val_loss: 0.1026 - val_acc: 0.9789\n",
            "Epoch 10/10\n",
            "60000/60000 [==============================] - 1s 17us/step - loss: 0.0099 - acc: 0.9970 - val_loss: 0.1053 - val_acc: 0.9790\n"
          ],
          "name": "stdout"
        }
      ]
    },
    {
      "cell_type": "code",
      "metadata": {
        "id": "Ld87-pHSnODK",
        "colab_type": "code",
        "outputId": "0573d215-f004-49d1-8d3d-1137dc34a27f",
        "colab": {
          "base_uri": "https://localhost:8080/",
          "height": 295
        }
      },
      "source": [
        "import matplotlib.pyplot as plt\n",
        "plt.plot(history.history['acc'])\n",
        "plt.plot(history.history['val_acc'])\n",
        "plt.plot(history.history['loss'])\n",
        "plt.plot(history.history['val_loss'])\n",
        "plt.title('model accuracy')\n",
        "plt.ylabel('accuracy')\n",
        "plt.xlabel('epoch')\n",
        "plt.legend(['accuray', 'validation accuracy','loss','val_loss'], loc='upper left')\n",
        "plt.show()"
      ],
      "execution_count": 12,
      "outputs": [
        {
          "output_type": "display_data",
          "data": {
            "image/png": "[encoded data removed]",
            "text/plain": [
              "<Figure size 432x288 with 1 Axes>"
            ]
          },
          "metadata": {
            "tags": []
          }
        }
      ]
    },
    {
      "cell_type": "code",
      "metadata": {
        "id": "MvahD8HZ_bNW",
        "colab_type": "code",
        "outputId": "451ddcf3-0796-4a05-d9c4-8d35346bc0fe",
        "colab": {
          "base_uri": "https://localhost:8080/",
          "height": 281
        }
      },
      "source": [
        "plt.imshow(test_images[7,:,:],cmap='gray')\n",
        "plt.title('Ground Truth : {}'.format(test_labels[7]))\n",
        "plt.show()"
      ],
      "execution_count": 16,
      "outputs": [
        {
          "output_type": "display_data",
          "data": {
            "image/png": "[encoded data removed]",
            "text/plain": [
              "<Figure size 432x288 with 1 Axes>"
            ]
          },
          "metadata": {
            "tags": []
          }
        }
      ]
    },
    {
      "cell_type": "code",
      "metadata": {
        "id": "bvOdFJ11_c5G",
        "colab_type": "code",
        "outputId": "64a1e1f9-bfa1-4bc6-df37-e3bd40e1aa45",
        "colab": {
          "base_uri": "https://localhost:8080/",
          "height": 34
        }
      },
      "source": [
        "\n",
        "x=model.predict_classes(test_data[[7],:])\n",
        "print(\"Predicted label\",test_labels[x])"
      ],
      "execution_count": 17,
      "outputs": [
        {
          "output_type": "stream",
          "text": [
            "Predicted label [9]\n"
          ],
          "name": "stdout"
        }
      ]
    },
    {
      "cell_type": "code",
      "metadata": {
        "id": "-twvhU9u_hmF",
        "colab_type": "code",
        "outputId": "7fc1a665-e79f-4497-b456-1fe208d2eefc",
        "colab": {
          "base_uri": "https://localhost:8080/",
          "height": 391
        }
      },
      "source": [
        "m = Sequential()\n",
        "m.add(Dense(512, activation='relu', input_shape=(dimData,)))\n",
        "m.add(Dense(512, activation='relu'))\n",
        "m.add(Dense(512, activation='tanh'))\n",
        "m.add(Dense(512, activation='sigmoid'))\n",
        "m.add(Dense(10, activation='softmax'))\n",
        "m.compile(optimizer='rmsprop', loss='categorical_crossentropy', metrics=['accuracy'])\n",
        "m.fit(train_data, train_labels_one_hot, batch_size=256, epochs=10, verbose=1,\n",
        "                   validation_data=(test_data, test_labels_one_hot))"
      ],
      "execution_count": 18,
      "outputs": [
        {
          "output_type": "stream",
          "text": [
            "Train on 60000 samples, validate on 10000 samples\n",
            "Epoch 1/10\n",
            "60000/60000 [==============================] - 1s 23us/step - loss: 0.3290 - acc: 0.8955 - val_loss: 0.1458 - val_acc: 0.9540\n",
            "Epoch 2/10\n",
            "60000/60000 [==============================] - 1s 20us/step - loss: 0.1055 - acc: 0.9681 - val_loss: 0.0798 - val_acc: 0.9759\n",
            "Epoch 3/10\n",
            "60000/60000 [==============================] - 1s 20us/step - loss: 0.0667 - acc: 0.9795 - val_loss: 0.0978 - val_acc: 0.9710\n",
            "Epoch 4/10\n",
            "60000/60000 [==============================] - 1s 20us/step - loss: 0.0470 - acc: 0.9852 - val_loss: 0.0965 - val_acc: 0.9739\n",
            "Epoch 5/10\n",
            "60000/60000 [==============================] - 1s 19us/step - loss: 0.0371 - acc: 0.9884 - val_loss: 0.0966 - val_acc: 0.9750\n",
            "Epoch 6/10\n",
            "60000/60000 [==============================] - 1s 20us/step - loss: 0.0305 - acc: 0.9910 - val_loss: 0.0987 - val_acc: 0.9751\n",
            "Epoch 7/10\n",
            "60000/60000 [==============================] - 1s 18us/step - loss: 0.0245 - acc: 0.9924 - val_loss: 0.0899 - val_acc: 0.9769\n",
            "Epoch 8/10\n",
            "60000/60000 [==============================] - 1s 18us/step - loss: 0.0184 - acc: 0.9943 - val_loss: 0.0891 - val_acc: 0.9793\n",
            "Epoch 9/10\n",
            "60000/60000 [==============================] - 1s 20us/step - loss: 0.0171 - acc: 0.9947 - val_loss: 0.0818 - val_acc: 0.9827\n",
            "Epoch 10/10\n",
            "60000/60000 [==============================] - 1s 19us/step - loss: 0.0138 - acc: 0.9957 - val_loss: 0.1024 - val_acc: 0.9794\n"
          ],
          "name": "stdout"
        },
        {
          "output_type": "execute_result",
          "data": {
            "text/plain": [
              "<keras.callbacks.History at 0x7f24d01faac8>"
            ]
          },
          "metadata": {
            "tags": []
          },
          "execution_count": 18
        }
      ]
    },
    {
      "cell_type": "code",
      "metadata": {
        "id": "DBRLQm7x_tcg",
        "colab_type": "code",
        "outputId": "a521b41b-972b-4f32-db09-1eab4c2b53f5",
        "colab": {
          "base_uri": "https://localhost:8080/",
          "height": 391
        }
      },
      "source": [
        "p = Sequential()\n",
        "p.add(Dense(512, activation='relu', input_shape=(dimData,)))\n",
        "p.add(Dense(512, activation='relu'))\n",
        "p.add(Dense(10, activation='softmax'))\n",
        "p.compile(optimizer='rmsprop', loss='categorical_crossentropy', metrics=['accuracy'])\n",
        "p.fit(train_data1, train_labels_one_hot, batch_size=256, epochs=10, verbose=1,\n",
        "                   validation_data=(test_data1, test_labels_one_hot)) "
      ],
      "execution_count": 20,
      "outputs": [
        {
          "output_type": "stream",
          "text": [
            "Train on 60000 samples, validate on 10000 samples\n",
            "Epoch 1/10\n",
            "60000/60000 [==============================] - 1s 22us/step - loss: 9.2778 - acc: 0.4232 - val_loss: 8.3651 - val_acc: 0.4807\n",
            "Epoch 2/10\n",
            "60000/60000 [==============================] - 1s 18us/step - loss: 8.4470 - acc: 0.4755 - val_loss: 8.3920 - val_acc: 0.4792\n",
            "Epoch 3/10\n",
            "60000/60000 [==============================] - 1s 19us/step - loss: 8.3863 - acc: 0.4794 - val_loss: 8.2239 - val_acc: 0.4895\n",
            "Epoch 4/10\n",
            "60000/60000 [==============================] - 1s 18us/step - loss: 8.3247 - acc: 0.4834 - val_loss: 8.2894 - val_acc: 0.4854\n",
            "Epoch 5/10\n",
            "60000/60000 [==============================] - 1s 18us/step - loss: 8.2883 - acc: 0.4856 - val_loss: 8.3076 - val_acc: 0.4843\n",
            "Epoch 6/10\n",
            "60000/60000 [==============================] - 1s 18us/step - loss: 8.2898 - acc: 0.4855 - val_loss: 8.1429 - val_acc: 0.4948\n",
            "Epoch 7/10\n",
            "60000/60000 [==============================] - 1s 18us/step - loss: 8.1994 - acc: 0.4911 - val_loss: 8.2723 - val_acc: 0.4866\n",
            "Epoch 8/10\n",
            "60000/60000 [==============================] - 1s 19us/step - loss: 8.1602 - acc: 0.4936 - val_loss: 8.1265 - val_acc: 0.4957\n",
            "Epoch 9/10\n",
            "60000/60000 [==============================] - 1s 18us/step - loss: 7.3561 - acc: 0.5432 - val_loss: 6.8960 - val_acc: 0.5717\n",
            "Epoch 10/10\n",
            "60000/60000 [==============================] - 1s 18us/step - loss: 7.0206 - acc: 0.5641 - val_loss: 6.7611 - val_acc: 0.5802\n"
          ],
          "name": "stdout"
        },
        {
          "output_type": "execute_result",
          "data": {
            "text/plain": [
              "<keras.callbacks.History at 0x7f24662ecdd8>"
            ]
          },
          "metadata": {
            "tags": []
          },
          "execution_count": 20
        }
      ]
    },
    {
      "cell_type": "code",
      "metadata": {
        "id": "8H_1Hv79As_r",
        "colab_type": "code",
        "outputId": "e209d87f-bb28-47f6-94dc-013bda61e8c4",
        "colab": {
          "base_uri": "https://localhost:8080/",
          "height": 445
        }
      },
      "source": [
        "from keras.models import Model\n",
        "from keras.layers import Input\n",
        "i=Input(shape=(784,))\n",
        "x= Dense(512, activation='relu')(i)\n",
        "x= Dense(512, activation='relu')(x)\n",
        "\n",
        "x= Dense(10, activation='softmax')(x)\n",
        "p = Model(input=i,output=x)\n",
        "p.compile(optimizer='rmsprop', loss='categorical_crossentropy', metrics=['accuracy'])\n",
        "p.fit(train_data, train_labels_one_hot, batch_size=256, epochs=10, verbose=1,\n",
        "                   validation_data=(test_data, test_labels_one_hot))"
      ],
      "execution_count": 21,
      "outputs": [
        {
          "output_type": "stream",
          "text": [
            "/usr/local/lib/python3.6/dist-packages/ipykernel_launcher.py:8: UserWarning: Update your `Model` call to the Keras 2 API: `Model(inputs=Tensor(\"in..., outputs=Tensor(\"de...)`\n",
            "  \n"
          ],
          "name": "stderr"
        },
        {
          "output_type": "stream",
          "text": [
            "Train on 60000 samples, validate on 10000 samples\n",
            "Epoch 1/10\n",
            "60000/60000 [==============================] - 1s 22us/step - loss: 0.2714 - acc: 0.9151 - val_loss: 0.1679 - val_acc: 0.9466\n",
            "Epoch 2/10\n",
            "60000/60000 [==============================] - 1s 18us/step - loss: 0.0923 - acc: 0.9712 - val_loss: 0.0993 - val_acc: 0.9693\n",
            "Epoch 3/10\n",
            "60000/60000 [==============================] - 1s 18us/step - loss: 0.0571 - acc: 0.9820 - val_loss: 0.0951 - val_acc: 0.9711\n",
            "Epoch 4/10\n",
            "60000/60000 [==============================] - 1s 19us/step - loss: 0.0411 - acc: 0.9869 - val_loss: 0.0710 - val_acc: 0.9789\n",
            "Epoch 5/10\n",
            "60000/60000 [==============================] - 1s 18us/step - loss: 0.0281 - acc: 0.9906 - val_loss: 0.0752 - val_acc: 0.9803\n",
            "Epoch 6/10\n",
            "60000/60000 [==============================] - 1s 18us/step - loss: 0.0212 - acc: 0.9928 - val_loss: 0.0690 - val_acc: 0.9814\n",
            "Epoch 7/10\n",
            "60000/60000 [==============================] - 1s 18us/step - loss: 0.0176 - acc: 0.9940 - val_loss: 0.1262 - val_acc: 0.9698\n",
            "Epoch 8/10\n",
            "60000/60000 [==============================] - 1s 18us/step - loss: 0.0131 - acc: 0.9954 - val_loss: 0.0870 - val_acc: 0.9813\n",
            "Epoch 9/10\n",
            "60000/60000 [==============================] - 1s 19us/step - loss: 0.0109 - acc: 0.9968 - val_loss: 0.0882 - val_acc: 0.9791\n",
            "Epoch 10/10\n",
            "60000/60000 [==============================] - 1s 18us/step - loss: 0.0104 - acc: 0.9968 - val_loss: 0.1040 - val_acc: 0.9790\n"
          ],
          "name": "stdout"
        },
        {
          "output_type": "execute_result",
          "data": {
            "text/plain": [
              "<keras.callbacks.History at 0x7f2466166e48>"
            ]
          },
          "metadata": {
            "tags": []
          },
          "execution_count": 21
        }
      ]
    },
    {
      "cell_type": "code",
      "metadata": {
        "id": "U_Y7l8lC6M8M",
        "colab_type": "code",
        "colab": {}
      },
      "source": [
        ""
      ],
      "execution_count": 0,
      "outputs": []
    },
    {
      "cell_type": "code",
      "metadata": {
        "id": "Fa0k7pV-69wK",
        "colab_type": "code",
        "colab": {}
      },
      "source": [
        ""
      ],
      "execution_count": 0,
      "outputs": []
    }
  ]
}